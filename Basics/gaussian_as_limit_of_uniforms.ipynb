{
  "nbformat": 4,
  "nbformat_minor": 0,
  "metadata": {
    "colab": {
      "name": "gaussian_as_limit_of_uniforms.ipynb",
      "provenance": [],
      "toc_visible": true
    },
    "kernelspec": {
      "name": "python3",
      "display_name": "Python 3"
    },
    "language_info": {
      "name": "python"
    }
  },
  "cells": [
    {
      "cell_type": "markdown",
      "metadata": {
        "id": "Jqep-SiVZh43"
      },
      "source": [
        "This is a simple demo to show that a Gaussian distribution can be understood as a sum of uniform distibutions."
      ]
    },
    {
      "cell_type": "code",
      "metadata": {
        "id": "CfcC22w4aEvS"
      },
      "source": [
        "import numpy as np\n",
        "import matplotlib.pyplot as plt\n",
        "from scipy.stats import norm"
      ],
      "execution_count": null,
      "outputs": []
    },
    {
      "cell_type": "code",
      "metadata": {
        "id": "DgHP9dRZaGRZ"
      },
      "source": [
        "We compute 100000 numbers as a sum of 12 integers sampled according to a uniform distribution in the range [0,1].\n",
        "The mean of a sum of distributions is equal to the sum of the means, so the expected mean is 12*.5=6.\n",
        "We shift each number of -6 to recenter the distributio on the origin.\n",
        "The variance of a sum of distributions is equal to the sum of variances. \n",
        "Since the variance of a uniform distribution is 1/12 (prove it by exercise), the variance of\n",
        "the sum is 1. "
      ],
      "execution_count": null,
      "outputs": []
    },
    {
      "cell_type": "code",
      "metadata": {
        "id": "enu2zSOTXqrP"
      },
      "source": [
        "no = 100000\n",
        "all = []\n",
        "for i in range(0,no):\n",
        "    x = 0\n",
        "    for j in range(0,12):\n",
        "        x += np.random.rand()\n",
        "    all.append(x-6)"
      ],
      "execution_count": null,
      "outputs": []
    },
    {
      "cell_type": "markdown",
      "metadata": {
        "id": "RDXw6CKMb5Wj"
      },
      "source": [
        "Now we draw an histogram of our distribution and compare it with the Gaussian."
      ]
    },
    {
      "cell_type": "code",
      "metadata": {
        "colab": {
          "base_uri": "https://localhost:8080/",
          "height": 265
        },
        "id": "ApZM-zY1b0QM",
        "outputId": "fee9c0f1-27c0-47ee-a525-d7e8d414e642"
      },
      "source": [
        "n, bins, patches = plt.hist(all, 100, density=True)\n",
        "#now draw the gaussian\n",
        "\n",
        "x = np.linspace(-4, 4, 100)\n",
        "plt.plot(x,norm.pdf(x,0,1),linewidth=3)\n",
        "plt.show()"
      ],
      "execution_count": 5,
      "outputs": [
        {
          "output_type": "display_data",
          "data": {
            "image/png": "[encoded data removed]",
            "text/plain": [
              "<Figure size 432x288 with 1 Axes>"
            ]
          },
          "metadata": {
            "needs_background": "light"
          }
        }
      ]
    },
    {
      "cell_type": "markdown",
      "metadata": {
        "id": "bb0qmWKCZWo1"
      },
      "source": [
        "WOW!"
      ]
    }
  ]
}