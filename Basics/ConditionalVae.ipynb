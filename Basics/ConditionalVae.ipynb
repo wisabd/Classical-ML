{
  "cells": [
    {
      "cell_type": "markdown",
      "metadata": {
        "id": "d_DKvNpcIeVu"
      },
      "source": [
        "In this notebook we shall present a simple conditional VAE, trained on MNIST"
      ]
    },
    {
      "cell_type": "code",
      "execution_count": null,
      "metadata": {
        "id": "V8_HUth4IW1g"
      },
      "outputs": [],
      "source": [
        "import tensorflow as tf\n",
        "from tensorflow.keras import layers\n",
        "from tensorflow.keras import Model\n",
        "from tensorflow.keras import backend as K\n",
        "from tensorflow.keras import metrics\n",
        "from tensorflow.keras import utils\n",
        "from keras.datasets import mnist\n",
        "import numpy as np\n",
        "import matplotlib.pyplot as plt"
      ]
    },
    {
      "cell_type": "markdown",
      "metadata": {
        "id": "bKj7GMTI7eK2"
      },
      "source": [
        "The conditional autoencoder will allow to generate specific digits in the MNIST range 0-9. The condition is passed as input to encoder and decoder in categorical format."
      ]
    },
    {
      "cell_type": "code",
      "execution_count": null,
      "metadata": {
        "colab": {
          "base_uri": "https://localhost:8080/"
        },
        "id": "_WG8B8RJlAaW",
        "outputId": "b96c1a4b-07b5-43b7-e2c1-99ee1a0cc8fe"
      },
      "outputs": [
        {
          "output_type": "stream",
          "name": "stdout",
          "text": [
            "Downloading data from https://storage.googleapis.com/tensorflow/tf-keras-datasets/mnist.npz\n",
            "11490434/11490434 [==============================] - 2s 0us/step\n"
          ]
        }
      ],
      "source": [
        "# train the VAE on MNIST digits\n",
        "(x_train, y_train), (x_test, y_test) = mnist.load_data()\n",
        "\n",
        "x_train = x_train.astype('float32') / 255.\n",
        "x_test = x_test.astype('float32') / 255.\n",
        "x_train = x_train.reshape((len(x_train), np.prod(x_train.shape[1:])))\n",
        "x_test = x_test.reshape((len(x_test), np.prod(x_test.shape[1:])))\n",
        "y_train = utils.to_categorical(y_train)\n",
        "y_test = utils.to_categorical(y_test)"
      ]
    },
    {
      "cell_type": "markdown",
      "metadata": {
        "id": "OxLa37ZnKIUV"
      },
      "source": [
        "# The model"
      ]
    },
    {
      "cell_type": "markdown",
      "metadata": {
        "id": "TPu8FwnGJ5Pl"
      },
      "source": [
        "Sampling function for the Variational Autoencoder.\n",
        "This is the clsed form of the Kullback-Leibler distance between a gaussian N(z_mean,z_var) and a normal prior N(0,1)"
      ]
    },
    {
      "cell_type": "code",
      "execution_count": null,
      "metadata": {
        "id": "t1hiFRyHJbKf"
      },
      "outputs": [],
      "source": [
        "def sampling(args):\n",
        "    z_mean, z_log_var = args\n",
        "    epsilon = K.random_normal(shape=(K.shape(z_mean)[0], latent_dim), mean=0.,\n",
        "                              stddev=1.)\n",
        "    return z_mean + K.exp(z_log_var / 2) * epsilon"
      ]
    },
    {
      "cell_type": "markdown",
      "metadata": {
        "id": "cwm4jR5E8in4"
      },
      "source": [
        "Main dimensions for the model (a simple stack of dense layers)."
      ]
    },
    {
      "cell_type": "code",
      "execution_count": null,
      "metadata": {
        "id": "VT9baosbKW8M"
      },
      "outputs": [],
      "source": [
        "input_dim = 784\n",
        "latent_dim = 8\n",
        "intermediate_dim = 24"
      ]
    },
    {
      "cell_type": "markdown",
      "metadata": {
        "id": "533QeAx09JGh"
      },
      "source": [
        "We start with the encoder. It takes two inputs: the image and the category.\n",
        "\n",
        "It returns the latent encoding (z_mean) and a (log-)variance for each latent variable."
      ]
    },
    {
      "cell_type": "code",
      "execution_count": null,
      "metadata": {
        "id": "9atMqlZUJ_dD"
      },
      "outputs": [],
      "source": [
        "x = layers.Input(shape=(input_dim,))\n",
        "y = layers.Input(shape=(10,))\n",
        "xy = layers.concatenate([x,y])\n",
        "h = layers.Dense(intermediate_dim, activation='relu')(xy)\n",
        "z_mean = layers.Dense(latent_dim)(h)\n",
        "z_log_var = layers.Dense(latent_dim)(h)"
      ]
    },
    {
      "cell_type": "markdown",
      "metadata": {
        "id": "CL94ost69tn_"
      },
      "source": [
        "Now we sample around z_mean with the associated variance. \n",
        "\n",
        "Note the use of the \"lambda\" layer to transform the sampling function into a keras layer."
      ]
    },
    {
      "cell_type": "code",
      "execution_count": null,
      "metadata": {
        "id": "RrqVE-8gLVkP"
      },
      "outputs": [],
      "source": [
        "z = layers.Lambda(sampling, output_shape=(latent_dim,))([z_mean, z_log_var])"
      ]
    },
    {
      "cell_type": "markdown",
      "metadata": {
        "id": "WUL-X_iT-Omd"
      },
      "source": [
        "Now we need to address the decoder. We first define its layers, in order to use them both in the vae model and in the stand-alone generator."
      ]
    },
    {
      "cell_type": "code",
      "execution_count": null,
      "metadata": {
        "id": "PkMlqvXMLa2U"
      },
      "outputs": [],
      "source": [
        "decoder_mid = layers.Dense(intermediate_dim, activation='relu')\n",
        "decoder_out = layers.Dense(input_dim, activation='sigmoid')"
      ]
    },
    {
      "cell_type": "markdown",
      "metadata": {
        "id": "jW5H-gc8-oy0"
      },
      "source": [
        "We decode the image starting from the latent representation z and its category y, that must be concatenated."
      ]
    },
    {
      "cell_type": "code",
      "execution_count": null,
      "metadata": {
        "id": "Ks8MvK85kKin"
      },
      "outputs": [],
      "source": [
        "zy = layers.concatenate([z,y])\n",
        "dec_mid = decoder_mid(zy)\n",
        "x_hat = decoder_out(dec_mid)\n",
        "\n",
        "vae = Model(inputs=[x,y], outputs=[x_hat])"
      ]
    },
    {
      "cell_type": "markdown",
      "metadata": {
        "id": "4pXS7wjS85eD"
      },
      "source": [
        "Some hyperparameters. Gamma is used to balance loglikelihood and KL-divergence in the loss function"
      ]
    },
    {
      "cell_type": "code",
      "execution_count": null,
      "metadata": {
        "id": "bBZvcj_VnRjE"
      },
      "outputs": [],
      "source": [
        "batch_size = 100\n",
        "epochs = 50\n",
        "gamma = 1."
      ]
    },
    {
      "cell_type": "markdown",
      "metadata": {
        "id": "a-NDaqVC-7-3"
      },
      "source": [
        "The VAE loss function is just the sum between the reconstruction error (mse or bce) and the KL-divergence, acting as a regularizer of the latent space."
      ]
    },
    {
      "cell_type": "code",
      "execution_count": null,
      "metadata": {
        "id": "JoGx6ok5j9SH"
      },
      "outputs": [],
      "source": [
        "rec_loss = input_dim * metrics.binary_crossentropy(x, x_hat)\n",
        "kl_loss = - 0.5 * K.sum(1 + z_log_var - K.square(z_mean) - K.exp(z_log_var), axis=-1)\n",
        "vae_loss = K.mean(rec_loss + gamma*kl_loss)\n",
        "vae.add_loss(vae_loss)"
      ]
    },
    {
      "cell_type": "markdown",
      "metadata": {
        "id": "wO5bJn1e_VcD"
      },
      "source": [
        "We are ready to compile. There is no need to specify the loss function, since we already added it to the model with add_loss."
      ]
    },
    {
      "cell_type": "code",
      "execution_count": null,
      "metadata": {
        "id": "88MtVNBokxYM"
      },
      "outputs": [],
      "source": [
        "vae.compile(optimizer='adam')"
      ]
    },
    {
      "cell_type": "markdown",
      "metadata": {
        "id": "2I2N8blv_kT2"
      },
      "source": [
        "Train for a sufficient amount of epochs. Generation is a more complex task than classification."
      ]
    },
    {
      "cell_type": "code",
      "execution_count": null,
      "metadata": {
        "colab": {
          "base_uri": "https://localhost:8080/"
        },
        "id": "VgjJ9-sElLFe",
        "outputId": "4cc10f65-5e7d-4774-ca99-30afbce4f633"
      },
      "outputs": [
        {
          "output_type": "stream",
          "name": "stdout",
          "text": [
            "Epoch 1/50\n",
            "600/600 [==============================] - 3s 3ms/step - loss: 123.1054 - val_loss: 122.1771\n",
            "Epoch 2/50\n",
            "600/600 [==============================] - 2s 3ms/step - loss: 123.0896 - val_loss: 122.0851\n",
            "Epoch 3/50\n",
            "600/600 [==============================] - 2s 3ms/step - loss: 123.0881 - val_loss: 122.1383\n",
            "Epoch 4/50\n",
            "600/600 [==============================] - 2s 3ms/step - loss: 123.0804 - val_loss: 122.1917\n",
            "Epoch 5/50\n",
            "600/600 [==============================] - 2s 3ms/step - loss: 123.0701 - val_loss: 122.1156\n",
            "Epoch 6/50\n",
            "600/600 [==============================] - 2s 3ms/step - loss: 123.0603 - val_loss: 122.1723\n",
            "Epoch 7/50\n",
            "600/600 [==============================] - 2s 3ms/step - loss: 123.0710 - val_loss: 122.0519\n",
            "Epoch 8/50\n",
            "600/600 [==============================] - 2s 3ms/step - loss: 123.0093 - val_loss: 122.2134\n",
            "Epoch 9/50\n",
            "600/600 [==============================] - 2s 3ms/step - loss: 123.0435 - val_loss: 122.0267\n",
            "Epoch 10/50\n",
            "600/600 [==============================] - 2s 3ms/step - loss: 123.0115 - val_loss: 122.2678\n",
            "Epoch 11/50\n",
            "600/600 [==============================] - 2s 3ms/step - loss: 122.9760 - val_loss: 122.0202\n",
            "Epoch 12/50\n",
            "600/600 [==============================] - 2s 3ms/step - loss: 122.9681 - val_loss: 122.0163\n",
            "Epoch 13/50\n",
            "600/600 [==============================] - 2s 3ms/step - loss: 122.9912 - val_loss: 122.1512\n",
            "Epoch 14/50\n",
            "600/600 [==============================] - 2s 3ms/step - loss: 122.9750 - val_loss: 122.0160\n",
            "Epoch 15/50\n",
            "600/600 [==============================] - 2s 3ms/step - loss: 122.9506 - val_loss: 122.0001\n",
            "Epoch 16/50\n",
            "600/600 [==============================] - 2s 3ms/step - loss: 122.9362 - val_loss: 122.0230\n",
            "Epoch 17/50\n",
            "600/600 [==============================] - 2s 3ms/step - loss: 122.9054 - val_loss: 122.0954\n",
            "Epoch 18/50\n",
            "600/600 [==============================] - 2s 3ms/step - loss: 122.9339 - val_loss: 121.9747\n",
            "Epoch 19/50\n",
            "600/600 [==============================] - 2s 3ms/step - loss: 122.9039 - val_loss: 122.0413\n",
            "Epoch 20/50\n",
            "600/600 [==============================] - 2s 3ms/step - loss: 122.8708 - val_loss: 121.9158\n",
            "Epoch 21/50\n",
            "600/600 [==============================] - 2s 3ms/step - loss: 122.8749 - val_loss: 122.0049\n",
            "Epoch 22/50\n",
            "600/600 [==============================] - 2s 3ms/step - loss: 122.8621 - val_loss: 121.8642\n",
            "Epoch 23/50\n",
            "600/600 [==============================] - 2s 3ms/step - loss: 122.8517 - val_loss: 121.8824\n",
            "Epoch 24/50\n",
            "600/600 [==============================] - 2s 3ms/step - loss: 122.8092 - val_loss: 121.7976\n",
            "Epoch 25/50\n",
            "600/600 [==============================] - 2s 3ms/step - loss: 122.7953 - val_loss: 121.8704\n",
            "Epoch 26/50\n",
            "600/600 [==============================] - 2s 3ms/step - loss: 122.7821 - val_loss: 121.9211\n",
            "Epoch 27/50\n",
            "600/600 [==============================] - 2s 3ms/step - loss: 122.7612 - val_loss: 121.9053\n",
            "Epoch 28/50\n",
            "600/600 [==============================] - 2s 3ms/step - loss: 122.7457 - val_loss: 121.8465\n",
            "Epoch 29/50\n",
            "600/600 [==============================] - 2s 3ms/step - loss: 122.7206 - val_loss: 121.8177\n",
            "Epoch 30/50\n",
            "600/600 [==============================] - 2s 3ms/step - loss: 122.6957 - val_loss: 121.8237\n",
            "Epoch 31/50\n",
            "600/600 [==============================] - 2s 3ms/step - loss: 122.6860 - val_loss: 121.8679\n",
            "Epoch 32/50\n",
            "600/600 [==============================] - 2s 3ms/step - loss: 122.6895 - val_loss: 121.9023\n",
            "Epoch 33/50\n",
            "600/600 [==============================] - 2s 3ms/step - loss: 122.6650 - val_loss: 121.7703\n",
            "Epoch 34/50\n",
            "600/600 [==============================] - 4s 6ms/step - loss: 122.6474 - val_loss: 121.8136\n",
            "Epoch 35/50\n",
            "600/600 [==============================] - 3s 5ms/step - loss: 122.6314 - val_loss: 121.6780\n",
            "Epoch 36/50\n",
            "600/600 [==============================] - 2s 3ms/step - loss: 122.5841 - val_loss: 121.7346\n",
            "Epoch 37/50\n",
            "600/600 [==============================] - 2s 3ms/step - loss: 122.6136 - val_loss: 121.7152\n",
            "Epoch 38/50\n",
            "600/600 [==============================] - 2s 3ms/step - loss: 122.5741 - val_loss: 121.6918\n",
            "Epoch 39/50\n",
            "600/600 [==============================] - 2s 3ms/step - loss: 122.5806 - val_loss: 121.7065\n",
            "Epoch 40/50\n",
            "600/600 [==============================] - 2s 3ms/step - loss: 122.5936 - val_loss: 121.6332\n",
            "Epoch 41/50\n",
            "600/600 [==============================] - 2s 3ms/step - loss: 122.5493 - val_loss: 121.5920\n",
            "Epoch 42/50\n",
            "600/600 [==============================] - 2s 3ms/step - loss: 122.5336 - val_loss: 121.6404\n",
            "Epoch 43/50\n",
            "600/600 [==============================] - 2s 3ms/step - loss: 122.5296 - val_loss: 121.5538\n",
            "Epoch 44/50\n",
            "600/600 [==============================] - 2s 3ms/step - loss: 122.5070 - val_loss: 121.5679\n",
            "Epoch 45/50\n",
            "600/600 [==============================] - 2s 3ms/step - loss: 122.4786 - val_loss: 121.5722\n",
            "Epoch 46/50\n",
            "600/600 [==============================] - 2s 3ms/step - loss: 122.4598 - val_loss: 121.5818\n",
            "Epoch 47/50\n",
            "600/600 [==============================] - 2s 3ms/step - loss: 122.4791 - val_loss: 121.5567\n",
            "Epoch 48/50\n",
            "600/600 [==============================] - 2s 3ms/step - loss: 122.4904 - val_loss: 121.6135\n",
            "Epoch 49/50\n",
            "600/600 [==============================] - 2s 3ms/step - loss: 122.4271 - val_loss: 121.4849\n",
            "Epoch 50/50\n",
            "600/600 [==============================] - 2s 3ms/step - loss: 122.4155 - val_loss: 121.4936\n"
          ]
        }
      ],
      "source": [
        "vae.load_weights(\"cvae256_8.h5\")\n",
        "vae.fit([x_train,y_train], shuffle=True, epochs=epochs, batch_size=batch_size, validation_data=([x_test,y_test], None))\n",
        "\n",
        "vae.save_weights(\"cvae256_8.h5\")"
      ]
    },
    {
      "cell_type": "markdown",
      "metadata": {
        "id": "txKlTVhs_yeF"
      },
      "source": [
        "Let us decode the full test set."
      ]
    },
    {
      "cell_type": "code",
      "execution_count": null,
      "metadata": {
        "colab": {
          "base_uri": "https://localhost:8080/"
        },
        "id": "VbZ110fvm5GU",
        "outputId": "76fce7cf-2cf9-455a-ad2b-7185566571e2"
      },
      "outputs": [
        {
          "output_type": "stream",
          "name": "stdout",
          "text": [
            "313/313 [==============================] - 1s 2ms/step\n"
          ]
        }
      ],
      "source": [
        "decoded_imgs = vae.predict([x_test,y_test])"
      ]
    },
    {
      "cell_type": "markdown",
      "metadata": {
        "id": "5N0khSaF_6-8"
      },
      "source": [
        "The following function is to test the quality of reconstructions (not particularly good, since compression is strong)."
      ]
    },
    {
      "cell_type": "code",
      "execution_count": null,
      "metadata": {
        "id": "QhEuyvLqmg9Z"
      },
      "outputs": [],
      "source": [
        "def plot(n=10):\n",
        "  plt.figure(figsize=(20, 4))\n",
        "  for i in range(n):\n",
        "    # display original\n",
        "    ax = plt.subplot(2, n, i + 1)\n",
        "    plt.imshow(x_test[i].reshape(28, 28))\n",
        "    plt.gray()\n",
        "    ax.get_xaxis().set_visible(False)\n",
        "    ax.get_yaxis().set_visible(False)\n",
        "\n",
        "    # display reconstruction\n",
        "    ax = plt.subplot(2, n, i + 1 + n)\n",
        "    plt.imshow(decoded_imgs[i].reshape(28, 28))\n",
        "    plt.gray()\n",
        "    ax.get_xaxis().set_visible(False)\n",
        "    ax.get_yaxis().set_visible(False)\n",
        "  plt.show()"
      ]
    },
    {
      "cell_type": "code",
      "execution_count": null,
      "metadata": {
        "colab": {
          "base_uri": "https://localhost:8080/",
          "height": 248
        },
        "id": "kts9354Pmq9Y",
        "outputId": "6a15091a-2e00-4ec5-cf76-3c52819edf0a"
      },
      "outputs": [
        {
          "output_type": "display_data",
          "data": {
            "text/plain": [
              "<Figure size 1440x288 with 20 Axes>"
            ],
            "image/png": "[encoded data removed]"
          },
          "metadata": {
            "needs_background": "light"
          }
        }
      ],
      "source": [
        "plot()"
      ]
    },
    {
      "cell_type": "markdown",
      "metadata": {
        "id": "ADA_k_hLn_vU"
      },
      "source": [
        "Finally, we build a digit generator that can sample from the learned distribution"
      ]
    },
    {
      "cell_type": "code",
      "execution_count": null,
      "metadata": {
        "id": "swQcpMrloDyK"
      },
      "outputs": [],
      "source": [
        "noise = layers.Input(shape=(latent_dim,))\n",
        "label = layers.Input(shape=(10,))\n",
        "xy = layers.concatenate([noise,label])\n",
        "dec_mid = decoder_mid(xy)\n",
        "dec_out = decoder_out(dec_mid)\n",
        "generator = Model([noise,label],dec_out)"
      ]
    },
    {
      "cell_type": "markdown",
      "metadata": {
        "id": "MpzeowOsAVEX"
      },
      "source": [
        "And we can generate our samples"
      ]
    },
    {
      "cell_type": "code",
      "execution_count": null,
      "metadata": {
        "colab": {
          "base_uri": "https://localhost:8080/",
          "height": 1000
        },
        "id": "dXO1fys7ohKn",
        "outputId": "8a878234-2ccc-4199-8da5-a94a8dd970b0"
      },
      "outputs": [
        {
          "output_type": "stream",
          "name": "stdout",
          "text": [
            "input digit to generate: 7\n",
            "1/1 [==============================] - 0s 15ms/step\n",
            "1/1 [==============================] - 0s 14ms/step\n",
            "1/1 [==============================] - 0s 19ms/step\n",
            "1/1 [==============================] - 0s 15ms/step\n",
            "1/1 [==============================] - 0s 16ms/step\n",
            "1/1 [==============================] - 0s 16ms/step\n",
            "1/1 [==============================] - 0s 15ms/step\n",
            "1/1 [==============================] - 0s 16ms/step\n",
            "1/1 [==============================] - 0s 14ms/step\n",
            "1/1 [==============================] - 0s 14ms/step\n",
            "1/1 [==============================] - 0s 15ms/step\n",
            "1/1 [==============================] - 0s 15ms/step\n",
            "1/1 [==============================] - 0s 16ms/step\n",
            "1/1 [==============================] - 0s 16ms/step\n",
            "1/1 [==============================] - 0s 17ms/step\n",
            "1/1 [==============================] - 0s 14ms/step\n",
            "1/1 [==============================] - 0s 16ms/step\n",
            "1/1 [==============================] - 0s 14ms/step\n",
            "1/1 [==============================] - 0s 15ms/step\n",
            "1/1 [==============================] - 0s 16ms/step\n",
            "1/1 [==============================] - 0s 14ms/step\n",
            "1/1 [==============================] - 0s 16ms/step\n",
            "1/1 [==============================] - 0s 17ms/step\n",
            "1/1 [==============================] - 0s 17ms/step\n",
            "1/1 [==============================] - 0s 20ms/step\n"
          ]
        },
        {
          "output_type": "display_data",
          "data": {
            "text/plain": [
              "<Figure size 720x720 with 1 Axes>"
            ],
            "image/png": "[encoded data removed]"
          },
          "metadata": {
            "needs_background": "light"
          }
        }
      ],
      "source": [
        "import time\n",
        "# display a 2D manifold of the digits\n",
        "n = 5  # figure with 15x15 digits\n",
        "digit_size = 28\n",
        "figure = np.zeros((digit_size * n, digit_size * n))\n",
        "\n",
        "while True:\n",
        "  label = input(\"input digit to generate: \")\n",
        "  label = int(label)\n",
        "  if label < 0 or label > 9:\n",
        "      print(label)\n",
        "      break\n",
        "  label = np.expand_dims(utils.to_categorical(label,10),axis=0)\n",
        "  for i in range(0,n):\n",
        "    for j in range (0,n):\n",
        "        z_sample = np.expand_dims(np.random.normal(size=latent_dim),axis=0)\n",
        "        x_decoded = generator.predict([z_sample,label])\n",
        "        digit = x_decoded[0].reshape(digit_size, digit_size)\n",
        "        figure[i * digit_size: (i + 1) * digit_size,\n",
        "               j * digit_size: (j + 1) * digit_size] = digit\n",
        "  plt.figure(figsize=(10, 10))\n",
        "  plt.imshow(figure, cmap='Greys_r')\n",
        "  plt.show()\n",
        "  time.sleep(1)\n"
      ]
    }
  ],
  "metadata": {
    "accelerator": "GPU",
    "colab": {
      "provenance": []
    },
    "kernelspec": {
      "display_name": "Python 3",
      "name": "python3"
    },
    "language_info": {
      "name": "python"
    }
  },
  "nbformat": 4,
  "nbformat_minor": 0
}
