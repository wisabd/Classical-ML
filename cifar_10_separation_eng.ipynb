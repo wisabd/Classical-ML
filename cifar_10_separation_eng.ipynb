{
  "cells": [
    {
      "cell_type": "markdown",
      "source": [
        "#Separation of CIFAR-10 Images\n",
        "\n",
        "The model takes as input an image created by averaging two random samples from CIFAR-10 and is tasked with predicting the categories of the two components.\n",
        "\n",
        "The first image belongs to the first five categories (airplane, automobile, bird, cat, deer), while the second belongs to the remaining categories (dog, frog, horse, ship, truck). The model must return two labels, each within a range of five possible values.\n",
        "\n",
        "The evaluation metric for the model is as follows: calculate the classification accuracy for the two component images and then compute their average.\n",
        "\n",
        "The metric should be evaluated on 10,000 inputs generated from test data. Repeat the calculation 10 times and measure the standard deviation, which must be reported.\n",
        "\n",
        "A data generator and some examples are provided below."
      ],
      "metadata": {
        "id": "mE7oyG0wv6e0"
      }
    },
    {
      "cell_type": "markdown",
      "source": [
        "#Data preparation"
      ],
      "metadata": {
        "id": "USdmzjiO0W6D"
      }
    },
    {
      "cell_type": "code",
      "source": [
        "import tensorflow as tf\n",
        "from tensorflow.keras import layers\n",
        "from tensorflow.keras.models import Model\n",
        "from tensorflow.keras.datasets import cifar10\n",
        "import numpy as np\n",
        "from matplotlib import pyplot as plt"
      ],
      "metadata": {
        "id": "iHjnh5XP0Sq4"
      },
      "execution_count": 1,
      "outputs": []
    },
    {
      "cell_type": "code",
      "source": [
        "(cifar10_x_train, cifar10_y_train), (cifar10_x_test, cifar10_y_test) = cifar10.load_data()\n",
        "assert cifar10_x_train.shape == (50000, 32, 32, 3)\n",
        "assert cifar10_x_test.shape == (10000, 32, 32, 3)\n",
        "assert cifar10_y_train.shape == (50000, 1)\n",
        "assert cifar10_y_test.shape == (10000, 1)\n",
        "\n",
        "classes = [\"airplane\", \"automobile\", \"bird\", \"cat\", \"deer\", \"dog\", \"frog\", \"horse\", \"ship\", \"truck\"]\n",
        "\n",
        "cifar10_x_train = (cifar10_x_train/255.).astype(np.float32)\n",
        "cifar10_x_test = (cifar10_x_test/255.).astype(np.float32)"
      ],
      "metadata": {
        "id": "yRYiW2ipukZF",
        "colab": {
          "base_uri": "https://localhost:8080/"
        },
        "outputId": "0d5c8981-51da-4c92-de73-84bcac11aa2c"
      },
      "execution_count": 2,
      "outputs": [
        {
          "output_type": "stream",
          "name": "stdout",
          "text": [
            "Downloading data from https://www.cs.toronto.edu/~kriz/cifar-10-python.tar.gz\n",
            "\u001b[1m170498071/170498071\u001b[0m \u001b[32m━━━━━━━━━━━━━━━━━━━━\u001b[0m\u001b[37m\u001b[0m \u001b[1m3s\u001b[0m 0us/step\n"
          ]
        }
      ]
    },
    {
      "cell_type": "markdown",
      "source": [
        "Let us split the images in two groups, according to their label."
      ],
      "metadata": {
        "id": "ZkiGnU4d0k4d"
      }
    },
    {
      "cell_type": "code",
      "source": [
        "cond_1 = cifar10_y_train[:,0] < 5\n",
        "cifar10_x_train_1 = cifar10_x_train[cond_1]\n",
        "cifar10_y_train_1 = cifar10_y_train[cond_1]\n",
        "\n",
        "cond_2 = cifar10_y_train[:,0] >= 5\n",
        "cifar10_x_train_2 = cifar10_x_train[cond_2]\n",
        "cifar10_y_train_2 = cifar10_y_train[cond_2]\n",
        "\n",
        "cond_1_test = cifar10_y_test[:,0] < 5\n",
        "cifar10_x_test_1 = cifar10_x_test[cond_1_test]\n",
        "cifar10_y_test_1 = cifar10_y_test[cond_1_test]\n",
        "\n",
        "cond_2_test = cifar10_y_test[:,0] >= 5\n",
        "cifar10_x_test_2 = cifar10_x_test[cond_2_test]\n",
        "cifar10_y_test_2 = cifar10_y_test[cond_2_test]"
      ],
      "metadata": {
        "id": "Dpey42Vo07Yb"
      },
      "execution_count": 3,
      "outputs": []
    },
    {
      "cell_type": "markdown",
      "source": [
        "Now we can define the generator. The input consists of two datasets (X1,X2), their corresponding labels (Y1,Y2), and a batch size.\n",
        "\n",
        "The generator returns (x_data,y_data), where:\n",
        "* x_data is a batch of images obtained by averaging random samples from X1 and X2.\n",
        "* y_data is a pair of batches of labels corresponding to the component images, expressed in categorical format."
      ],
      "metadata": {
        "id": "qmLYNuR-0s0m"
      }
    },
    {
      "cell_type": "code",
      "source": [
        "def datagenerator(X1,X2,Y1,Y2,batchsize):\n",
        "  size1 = X1.shape[0]\n",
        "  size2 = X2.shape[0]\n",
        "  Y1_cat = tf.keras.utils.to_categorical(Y1, num_classes=5)\n",
        "  Y2_cat = tf.keras.utils.to_categorical(Y2-5, num_classes=5)\n",
        "\n",
        "  while True:\n",
        "    num1 = np.random.randint(0, size1, batchsize)\n",
        "    num2 = np.random.randint(0, size2, batchsize)\n",
        "    x_data = (X1[num1] + X2[num2]) / 2.0\n",
        "    y_data = [Y1_cat[num1],Y2_cat[num2]]\n",
        "\n",
        "    yield x_data, y_data"
      ],
      "metadata": {
        "id": "7Y5Zpv5fw2hd"
      },
      "execution_count": 4,
      "outputs": []
    },
    {
      "cell_type": "markdown",
      "source": [
        "\n",
        "Let us instantiate a generator on Cifar10 with batchsize=1, and let's see its behaviour."
      ],
      "metadata": {
        "id": "Z9lf3TuP2pdQ"
      }
    },
    {
      "cell_type": "code",
      "source": [
        "datagen = datagenerator(cifar10_x_train_1,cifar10_x_train_2,cifar10_y_train_1,cifar10_y_train_2,1)"
      ],
      "metadata": {
        "id": "29TldJ6-720b"
      },
      "execution_count": 5,
      "outputs": []
    },
    {
      "cell_type": "markdown",
      "source": [
        "Let's generate an example, display the image that the model will take as input, and print the categories of the two overlapping components.\n",
        "\n",
        "You can re-run the cell to display new examples."
      ],
      "metadata": {
        "id": "W1DrJVzI3ysV"
      }
    },
    {
      "cell_type": "code",
      "source": [
        "x, y = next(datagen)\n",
        "\n",
        "print(\"first: {}, second = {}\".format(classes[np.argmax(y[0][0])],classes[np.argmax(y[1][0])+5]))\n",
        "#print(np.min(x[0]),np.max(x[0]))\n",
        "plt.imshow(x[0])"
      ],
      "metadata": {
        "colab": {
          "base_uri": "https://localhost:8080/",
          "height": 465
        },
        "id": "qL1sMtjG8VmG",
        "outputId": "5b9d6599-d407-4e32-dad7-f3f95890f0b2"
      },
      "execution_count": 6,
      "outputs": [
        {
          "output_type": "stream",
          "name": "stdout",
          "text": [
            "first: cat, second = dog\n"
          ]
        },
        {
          "output_type": "execute_result",
          "data": {
            "text/plain": [
              "<matplotlib.image.AxesImage at 0x7ce52fc28910>"
            ]
          },
          "metadata": {},
          "execution_count": 6
        },
        {
          "output_type": "display_data",
          "data": {
            "text/plain": [
              "<Figure size 640x480 with 1 Axes>"
            ],
            "image/png": "[encoded data removed]"
          },
          "metadata": {}
        }
      ]
    },
    {
      "cell_type": "markdown",
      "source": [
        "# Model Evaluation"
      ],
      "metadata": {
        "id": "l5lzBotwL5QN"
      }
    },
    {
      "cell_type": "markdown",
      "source": [
        "Let us define first of all the test generator."
      ],
      "metadata": {
        "id": "9_p4UuG1QF8t"
      }
    },
    {
      "cell_type": "code",
      "source": [
        "testgen = datagenerator(cifar10_x_test_1,cifar10_x_test_2,cifar10_y_test_1,cifar10_y_test_2,10000)\n",
        "\n",
        "eval_samples_x, eval_samples_y = next(testgen)\n",
        "print(eval_samples_x.shape)"
      ],
      "metadata": {
        "colab": {
          "base_uri": "https://localhost:8080/"
        },
        "id": "cQo8_6w-L4WY",
        "outputId": "a626a55c-7df8-456b-adcd-580d4166e184"
      },
      "execution_count": 7,
      "outputs": [
        {
          "output_type": "stream",
          "name": "stdout",
          "text": [
            "(10000, 32, 32, 3)\n"
          ]
        }
      ]
    },
    {
      "cell_type": "markdown",
      "source": [
        "We now test a model producing random guesses. You will need to replace it with your own predictive model."
      ],
      "metadata": {
        "id": "4MiLnkKROGCD"
      }
    },
    {
      "cell_type": "code",
      "source": [
        "def random_model(x):\n",
        "  #the random model ingnore the input x and return a pair of random classes\n",
        "  return(np.random.randint(0,5,(10000,2)))"
      ],
      "metadata": {
        "id": "1GllTEtPN_xv"
      },
      "execution_count": 8,
      "outputs": []
    },
    {
      "cell_type": "code",
      "source": [
        "def eval_model(model):\n",
        "  eval_samples_x, eval_samples_y = next(testgen)\n",
        "  random_guesses = model(eval_samples_x)\n",
        "  correct_guesses_1 = random_guesses[:,0] == np.argmax(eval_samples_y[0],axis=1)\n",
        "  correct_guesses_2 = random_guesses[:,1] == np.argmax(eval_samples_y[1],axis=1)\n",
        "  return (np.mean(correct_guesses_1) + np.mean(correct_guesses_2))/2"
      ],
      "metadata": {
        "id": "gomFTuuDOy8A"
      },
      "execution_count": 9,
      "outputs": []
    },
    {
      "cell_type": "code",
      "source": [
        "eval_model(random_model)"
      ],
      "metadata": {
        "colab": {
          "base_uri": "https://localhost:8080/"
        },
        "id": "i4AL2M6yjJno",
        "outputId": "d84ecfb8-299f-4e37-85ee-c69b83a39e0c"
      },
      "execution_count": 10,
      "outputs": [
        {
          "output_type": "execute_result",
          "data": {
            "text/plain": [
              "0.20575"
            ]
          },
          "metadata": {},
          "execution_count": 10
        }
      ]
    },
    {
      "cell_type": "markdown",
      "source": [
        "As expected, the accuracy is around 1/5 = 0.2\n",
        "\n",
        "Let us repeat the evaluation ten times, and compute the standard deviation"
      ],
      "metadata": {
        "id": "7usBI88dje70"
      }
    },
    {
      "cell_type": "code",
      "source": [
        "repeat_eval = 10\n",
        "eval_results = []\n",
        "for i in range(repeat_eval):\n",
        "  eval_results.append(eval_model(random_model))\n",
        "print(\"mean accuracy = \", np.mean(eval_results))\n",
        "print(\"standard deviation = \", np.std(eval_results))"
      ],
      "metadata": {
        "colab": {
          "base_uri": "https://localhost:8080/"
        },
        "id": "ZFu8iEt9jdZA",
        "outputId": "93fa99f4-972a-4795-917b-b1db97dc7ff7"
      },
      "execution_count": 11,
      "outputs": [
        {
          "output_type": "stream",
          "name": "stdout",
          "text": [
            "mean accuracy =  0.201085\n",
            "standard deviation =  0.0029382860650385956\n"
          ]
        }
      ]
    },
    {
      "cell_type": "markdown",
      "source": [
        "# What to Submit\n",
        "\n",
        "As usual, you need to submit a single notebook that must be executable on Colab. The notebook should be properly commented and include a complete record of the training process, as well as the calculation of accuracy according to the guidelines provided above.\n",
        "\n",
        "# Good luck!\n",
        "\n"
      ],
      "metadata": {
        "id": "j1yTRAzn4i9g"
      }
    }
  ],
  "metadata": {
    "colab": {
      "provenance": []
    },
    "kernelspec": {
      "display_name": "Python 3",
      "name": "python3"
    },
    "language_info": {
      "name": "python"
    },
    "accelerator": "GPU"
  },
  "nbformat": 4,
  "nbformat_minor": 0
}